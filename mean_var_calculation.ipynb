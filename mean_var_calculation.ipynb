{
 "cells": [
  {
   "cell_type": "code",
   "execution_count": 1,
   "metadata": {},
   "outputs": [],
   "source": [
    "import librosa\n",
    "from os import listdir\n",
    "from os import path\n",
    "from os.path import isfile, join\n",
    "import os\n",
    "import numpy as np"
   ]
  },
  {
   "cell_type": "code",
   "execution_count": 2,
   "metadata": {},
   "outputs": [],
   "source": [
    "Fs = 8e3\n",
    "nfft = 2 ** 7\n",
    "wlen_time = [10,20,40,60,80]\n",
    "overlap_perc = [0.125,0.25,0.5,0.75]\n",
    "\n",
    "t60s = [0.3,0.6,0.9]\n",
    "num_samples = 5000\n",
    "num_rirs = 500\n"
   ]
  },
  {
   "cell_type": "code",
   "execution_count": 3,
   "metadata": {},
   "outputs": [
    {
     "ename": "KeyboardInterrupt",
     "evalue": "",
     "output_type": "error",
     "traceback": [
      "\u001b[0;31m---------------------------------------------------------------------------\u001b[0m",
      "\u001b[0;31mKeyboardInterrupt\u001b[0m                         Traceback (most recent call last)",
      "\u001b[0;32m<ipython-input-3-aa7309b3a98d>\u001b[0m in \u001b[0;36m<module>\u001b[0;34m\u001b[0m\n\u001b[1;32m     23\u001b[0m             \u001b[0;32melse\u001b[0m\u001b[0;34m:\u001b[0m\u001b[0;34m\u001b[0m\u001b[0;34m\u001b[0m\u001b[0m\n\u001b[1;32m     24\u001b[0m \u001b[0;34m\u001b[0m\u001b[0m\n\u001b[0;32m---> 25\u001b[0;31m                 \u001b[0mnew_comb\u001b[0m \u001b[0;34m=\u001b[0m \u001b[0mnp\u001b[0m\u001b[0;34m.\u001b[0m\u001b[0mconcatenate\u001b[0m\u001b[0;34m(\u001b[0m\u001b[0;34m(\u001b[0m\u001b[0mnew_comb\u001b[0m\u001b[0;34m,\u001b[0m\u001b[0mcomb_input\u001b[0m\u001b[0;34m)\u001b[0m\u001b[0;34m,\u001b[0m\u001b[0maxis\u001b[0m\u001b[0;34m=\u001b[0m\u001b[0;36m1\u001b[0m\u001b[0;34m)\u001b[0m\u001b[0;34m\u001b[0m\u001b[0;34m\u001b[0m\u001b[0m\n\u001b[0m\u001b[1;32m     26\u001b[0m             \u001b[0;31m#print(new_comb.shape)\u001b[0m\u001b[0;34m\u001b[0m\u001b[0;34m\u001b[0m\u001b[0;34m\u001b[0m\u001b[0m\n\u001b[1;32m     27\u001b[0m \u001b[0;34m\u001b[0m\u001b[0m\n",
      "\u001b[0;32m<__array_function__ internals>\u001b[0m in \u001b[0;36mconcatenate\u001b[0;34m(*args, **kwargs)\u001b[0m\n",
      "\u001b[0;31mKeyboardInterrupt\u001b[0m: "
     ]
    }
   ],
   "source": [
    "input_path = '/data/liyuy/PROJECTS/DEREVERB3/timit_8k/reverb_train/train_wlen_'\n",
    "out_path = '/data/liyuy/PROJECTS/DEREVERB3/timit_8k/mean_val_file/'\n",
    "if path.exists(out_path) == False:\n",
    "            os.mkdir(out_path)\n",
    "\n",
    "for a in range(0,len(wlen_time)):\n",
    "    wlen = int(wlen_time[a] * 1e-3 * Fs)\n",
    "    if wlen > nfft:\n",
    "        nfft = nfft * 2\n",
    "    for b in range(0,len(overlap_perc)):\n",
    "        overlap = int(overlap_perc[b] * wlen)\n",
    "        hop_size = wlen - overlap\n",
    "        newin_path = input_path + '%d' % wlen + '_nfft_' + '%d' % nfft + '_overlap_' + '%d' % overlap + '/'\n",
    "        newout_file = out_path + 'train_wlen_' + '%d' % wlen + '_nfft_' + '%d' % nfft + '_overlap_' + '%d' % overlap + '.txt'\n",
    "        new_comb = None\n",
    "       \n",
    "        for f in listdir(newin_path):\n",
    "            new_path = join(newin_path,f)\n",
    "            comb_input = np.load(new_path)\n",
    "            \n",
    "            if type(new_comb) == type(None):\n",
    "                new_comb = comb_input\n",
    "            else:\n",
    "                \n",
    "                new_comb = np.concatenate((new_comb,comb_input),axis=1)\n",
    "            #print(new_comb.shape)\n",
    "            \n",
    "        mean_comb = np.mean(new_comb)\n",
    "        std_comb = np.std(new_comb)\n",
    "        print(mean_comb,std_comb)\n",
    "            \n",
    "        file1 = open(newout_file,\"a\")\n",
    "         \n",
    "        file1.write('%.6f'% mean_comb+ ', ' + '%.6f'%std_comb )\n",
    "        file1.close()\n",
    "        "
   ]
  },
  {
   "cell_type": "code",
   "execution_count": null,
   "metadata": {},
   "outputs": [],
   "source": []
  }
 ],
 "metadata": {
  "kernelspec": {
   "display_name": "Python 3",
   "language": "python",
   "name": "python3"
  },
  "language_info": {
   "codemirror_mode": {
    "name": "ipython",
    "version": 3
   },
   "file_extension": ".py",
   "mimetype": "text/x-python",
   "name": "python",
   "nbconvert_exporter": "python",
   "pygments_lexer": "ipython3",
   "version": "3.7.4"
  }
 },
 "nbformat": 4,
 "nbformat_minor": 2
}
