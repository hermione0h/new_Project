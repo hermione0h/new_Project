{
 "cells": [
  {
   "cell_type": "code",
   "execution_count": 1,
   "metadata": {},
   "outputs": [],
   "source": [
    "from scipy.io import loadmat\n",
    "import numpy as np\n",
    "from os import path\n",
    "import os"
   ]
  },
  {
   "cell_type": "code",
   "execution_count": 2,
   "metadata": {},
   "outputs": [],
   "source": [
    "\n",
    "roomNum = 1 # starting room 1 and total 10 rooms in train\n",
    "t60s = [0.3,0.6,0.9]\n",
    "loc = 1\n",
    "Fs = 8000\n",
    "num_samples = 5000 # total number of original clean signals for training set\n",
    "num_rir_fft = 513 # number of samples in target fft"
   ]
  },
  {
   "cell_type": "code",
   "execution_count": 3,
   "metadata": {},
   "outputs": [],
   "source": [
    "\n",
    "# concatenate imaginary and real parts into vector, the first # 513 samples are real, the second # 513 samples are imaginary\n",
    "input_path = '/data/liyuy/PROJECTS/DEREVERB3/timit_8k/target/all_t60/train_de_complex/reverb_rir'\n",
    "out_path = '/data/liyuy/PROJECTS/DEREVERB3/timit_8k/target/all_t60/train_de_ir/'  \n",
    "if path.exists(out_path) == False:\n",
    "    os.mkdir(out_path)\n",
    "for i in range(1,num_samples+1):\n",
    "    if i != 1 and (i - 1) % 500 == 0:\n",
    "        roomNum += 1\n",
    "        loc = 1\n",
    "    for x in range(0,len(t60s)):\n",
    "        t60 = t60s[x]\n",
    "        new_comb = np.zeros((1,num_rir_fft * 2))\n",
    "        new_path = input_path + \"{0:0=4d}\".format(i) + '_roomNum' + '%d' % roomNum + '_t60' + '%.1f' % t60 + '_loc' + '%d' % loc + '_' + '%d' % (Fs/1000) + 'kHz.mat'\n",
    "        a = loadmat(new_path)\n",
    "        newFFT = a['de_fft']\n",
    "\n",
    "        real = newFFT.real\n",
    "        imag = newFFT.imag\n",
    "\n",
    "        new_comb[:,0:num_rir_fft] = real\n",
    "        new_comb[:,num_rir_fft:] = imag\n",
    "        new_out = out_path + 'reverb_rir' + \"{0:0=4d}\".format(i) + '_roomNum' + '%d' % roomNum + '_t60' + '%.1f' % t60 + '_loc' + '%d' % loc + '_' + '%d' % (Fs/1000) + 'kHz.npy'\n",
    "        np.save(new_out,new_comb)\n",
    "    loc += 1"
   ]
  },
  {
   "cell_type": "code",
   "execution_count": 4,
   "metadata": {},
   "outputs": [],
   "source": [
    "roomNum = 1 # start room 1 and total 10 rooms in validation\n",
    "loc = 1\n",
    "num_samples = 500 # total number of clean signals in validation set"
   ]
  },
  {
   "cell_type": "code",
   "execution_count": 5,
   "metadata": {},
   "outputs": [],
   "source": [
    "# generate validation labels \n",
    "input_path = '/data/liyuy/PROJECTS/DEREVERB3/timit_8k/target/all_t60/valid_de_complex/reverb_rir'\n",
    "out_path = '/data/liyuy/PROJECTS/DEREVERB3/timit_8k/target/all_t60/valid_de_ir/'\n",
    "if path.exists(out_path) == False:\n",
    "    os.mkdir(out_path)\n",
    "    \n",
    "for i in range(1,num_samples+1):\n",
    "    if i != 1 and (i - 1) % 50 == 0:\n",
    "        roomNum += 1\n",
    "        \n",
    "    for x in range(0,len(t60s)):\n",
    "        t60 = t60s[x]\n",
    "    \n",
    "        new_comb = np.zeros((1,num_rir_fft*2))\n",
    "        new_path = input_path + \"{0:0=4d}\".format(i) + '_roomNum' + '%d' % roomNum + '_t60' + '%.1f' % t60 + '_loc' + '%d' % loc + '_' + '%d' % (Fs/1000) + 'kHz.mat'\n",
    "        a = loadmat(new_path)\n",
    "        newFFT = a['de_fft']\n",
    "            \n",
    "        real = newFFT.real\n",
    "        imag = newFFT.imag\n",
    "    \n",
    "        new_comb[:,0:num_rir_fft] = real\n",
    "        new_comb[:,num_rir_fft:] = imag\n",
    "        new_out = out_path + 'reverb_rir' + \"{0:0=4d}\".format(i) + '_roomNum' + '%d' % roomNum + '_t60' + '%.1f' % t60 + '_loc' + '%d' % loc + '_' + '%d' % (Fs/1000) + 'kHz.npy'\n",
    "        np.save(new_out,new_comb)\n",
    "    loc += 1\n",
    "        "
   ]
  },
  {
   "cell_type": "code",
   "execution_count": 6,
   "metadata": {},
   "outputs": [],
   "source": [
    "roomNums = [11,12,13,14] #unseen rir room number\n",
    "num_samples = 500\n",
    "num_rooms = 4"
   ]
  },
  {
   "cell_type": "code",
   "execution_count": 8,
   "metadata": {},
   "outputs": [],
   "source": [
    "# generate first 4 test labels with 4 unseen rooms\n",
    "input_path = '/data/liyuy/PROJECTS/DEREVERB3/timit_8k/target/all_t60/test'\n",
    "out_path = '/data/liyuy/PROJECTS/DEREVERB3/timit_8k/target/all_t60/test'\n",
    "for a in range(0,num_rooms):\n",
    "    roomNum = roomNums[a]\n",
    "    new_in = input_path + '%d'%(a+1) + '_de_complex/reverb_rir'\n",
    "    new_out = out_path + '%d'%(a+1) + '_de_ir/'\n",
    "    if path.exists(new_out) == False:\n",
    "        os.mkdir(new_out)\n",
    "    loc = 1\n",
    "    for i in range(1,num_samples+1):\n",
    "\n",
    "        for x in range(0,len(t60s)):\n",
    "            t60 = t60s[x]\n",
    "\n",
    "            new_comb = np.zeros((1,num_rir_fft*2))\n",
    "            new_path = new_in + \"{0:0=4d}\".format(i) + '_roomNum' + '%d' % roomNum + '_t60' + '%.1f' % t60 + '_loc' + '%d' % loc + '_' + '%d' % (Fs/1000) + 'kHz.mat'\n",
    "            a = loadmat(new_path)\n",
    "            newFFT = a['de_fft']\n",
    "\n",
    "            real = newFFT.real\n",
    "            imag = newFFT.imag\n",
    "\n",
    "            new_comb[:,0:num_rir_fft] = real\n",
    "            new_comb[:,num_rir_fft:] = imag\n",
    "            new_out_path = new_out + 'reverb_rir' + \"{0:0=4d}\".format(i) + '_roomNum' + '%d' % roomNum + '_t60' + '%.1f' % t60 + '_loc' + '%d' % loc + '_' + '%d' % (Fs/1000) + 'kHz.npy'\n",
    "            np.save(new_out_path,new_comb)\n",
    "        loc += 1"
   ]
  },
  {
   "cell_type": "code",
   "execution_count": 10,
   "metadata": {},
   "outputs": [],
   "source": [
    "roomNum = 1\n",
    "loc = 1\n",
    "num_samples = 500"
   ]
  },
  {
   "cell_type": "code",
   "execution_count": 11,
   "metadata": {},
   "outputs": [],
   "source": [
    "# generate test5 labels from seen room 1-10\n",
    "input_path = '/data/liyuy/PROJECTS/DEREVERB3/timit_8k/target/all_t60/test5_de_complex/reverb_rir'\n",
    "out_path = '/data/liyuy/PROJECTS/DEREVERB3/timit_8k/target/all_t60/test5_de_ir/'\n",
    "\n",
    "if path.exists(out_path) == False:\n",
    "    os.mkdir(out_path)\n",
    "\n",
    "for i in range(1,num_samples+1):\n",
    "    if i != 1 and (i - 1) % 50 == 0:\n",
    "        roomNum += 1\n",
    "    for x in range(0,len(t60s)):\n",
    "        t60 = t60s[x]\n",
    "\n",
    "        new_comb = np.zeros((1,num_rir_fft*2))\n",
    "        new_path = input_path + \"{0:0=4d}\".format(i) + '_roomNum' + '%d' % roomNum + '_t60' + '%.1f' % t60 + '_loc' + '%d' % loc + '_' + '%d' % (Fs/1000) + 'kHz.mat'\n",
    "        a = loadmat(new_path)\n",
    "        newFFT = a['de_fft']\n",
    "\n",
    "        real = newFFT.real\n",
    "        imag = newFFT.imag\n",
    "\n",
    "        new_comb[:,0:num_rir_fft] = real\n",
    "        new_comb[:,num_rir_fft:] = imag\n",
    "        new_out_path = out_path + 'reverb_rir' + \"{0:0=4d}\".format(i) + '_roomNum' + '%d' % roomNum + '_t60' + '%.1f' % t60 + '_loc' + '%d' % loc + '_' + '%d' % (Fs/1000) + 'kHz.npy'\n",
    "        np.save(new_out_path,new_comb)\n",
    "    loc += 1"
   ]
  },
  {
   "cell_type": "code",
   "execution_count": null,
   "metadata": {},
   "outputs": [],
   "source": []
  }
 ],
 "metadata": {
  "kernelspec": {
   "display_name": "Python 3",
   "language": "python",
   "name": "python3"
  },
  "language_info": {
   "codemirror_mode": {
    "name": "ipython",
    "version": 3
   },
   "file_extension": ".py",
   "mimetype": "text/x-python",
   "name": "python",
   "nbconvert_exporter": "python",
   "pygments_lexer": "ipython3",
   "version": "3.7.4"
  }
 },
 "nbformat": 4,
 "nbformat_minor": 2
}
