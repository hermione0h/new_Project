{
 "cells": [
  {
   "cell_type": "code",
   "execution_count": 12,
   "metadata": {},
   "outputs": [],
   "source": [
    "import librosa\n",
    "from os import listdir\n",
    "from os import path\n",
    "from os.path import isfile, join\n",
    "import os\n",
    "import numpy as np"
   ]
  },
  {
   "cell_type": "code",
   "execution_count": 13,
   "metadata": {},
   "outputs": [],
   "source": [
    "Fs = 8e3\n",
    "nfft = 2 ** 7\n",
    "wlen_time = [10,20,40,60,80]\n",
    "overlap_perc = [0.125,0.25,0.5,0.75]\n",
    "\n",
    "t60s = [0.3,0.6,0.9]\n",
    "num_samples = 5000\n",
    "num_rirs = 500\n"
   ]
  },
  {
   "cell_type": "code",
   "execution_count": 38,
   "metadata": {},
   "outputs": [
    {
     "name": "stdout",
     "output_type": "stream",
     "text": [
      "(195,) (195,)\n"
     ]
    },
    {
     "ename": "KeyboardInterrupt",
     "evalue": "",
     "output_type": "error",
     "traceback": [
      "\u001b[0;31m---------------------------------------------------------------------------\u001b[0m",
      "\u001b[0;31mKeyboardInterrupt\u001b[0m                         Traceback (most recent call last)",
      "\u001b[0;32m<ipython-input-38-bb9082f20bd4>\u001b[0m in \u001b[0;36m<module>\u001b[0;34m\u001b[0m\n\u001b[1;32m     15\u001b[0m         \u001b[0mnew_comb\u001b[0m \u001b[0;34m=\u001b[0m \u001b[0;32mNone\u001b[0m\u001b[0;34m\u001b[0m\u001b[0;34m\u001b[0m\u001b[0m\n\u001b[1;32m     16\u001b[0m \u001b[0;34m\u001b[0m\u001b[0m\n\u001b[0;32m---> 17\u001b[0;31m         \u001b[0mmean_comb\u001b[0m \u001b[0;34m=\u001b[0m \u001b[0mcal_mean\u001b[0m\u001b[0;34m(\u001b[0m\u001b[0mnewin_path\u001b[0m\u001b[0;34m)\u001b[0m\u001b[0;34m\u001b[0m\u001b[0;34m\u001b[0m\u001b[0m\n\u001b[0m\u001b[1;32m     18\u001b[0m         \u001b[0mvar\u001b[0m \u001b[0;34m=\u001b[0m \u001b[0mcal_var\u001b[0m\u001b[0;34m(\u001b[0m\u001b[0mnewin_path\u001b[0m\u001b[0;34m,\u001b[0m\u001b[0mmean_comb\u001b[0m\u001b[0;34m)\u001b[0m\u001b[0;34m\u001b[0m\u001b[0;34m\u001b[0m\u001b[0m\n\u001b[1;32m     19\u001b[0m \u001b[0;34m\u001b[0m\u001b[0m\n",
      "\u001b[0;32m<ipython-input-26-53fcf6059288>\u001b[0m in \u001b[0;36mcal_mean\u001b[0;34m(dir_in)\u001b[0m\n\u001b[1;32m      4\u001b[0m         \u001b[0msum_col\u001b[0m \u001b[0;34m=\u001b[0m \u001b[0;36m0\u001b[0m\u001b[0;34m\u001b[0m\u001b[0;34m\u001b[0m\u001b[0m\n\u001b[1;32m      5\u001b[0m         \u001b[0mnew_path\u001b[0m \u001b[0;34m=\u001b[0m \u001b[0mjoin\u001b[0m\u001b[0;34m(\u001b[0m\u001b[0mdir_in\u001b[0m\u001b[0;34m,\u001b[0m\u001b[0mf\u001b[0m\u001b[0;34m)\u001b[0m\u001b[0;34m\u001b[0m\u001b[0;34m\u001b[0m\u001b[0m\n\u001b[0;32m----> 6\u001b[0;31m         \u001b[0mcomb_input\u001b[0m \u001b[0;34m=\u001b[0m \u001b[0mnp\u001b[0m\u001b[0;34m.\u001b[0m\u001b[0mload\u001b[0m\u001b[0;34m(\u001b[0m\u001b[0mnew_path\u001b[0m\u001b[0;34m)\u001b[0m\u001b[0;34m\u001b[0m\u001b[0;34m\u001b[0m\u001b[0m\n\u001b[0m\u001b[1;32m      7\u001b[0m         \u001b[0mshape_comb\u001b[0m \u001b[0;34m=\u001b[0m \u001b[0mcomb_input\u001b[0m\u001b[0;34m.\u001b[0m\u001b[0mshape\u001b[0m\u001b[0;34m\u001b[0m\u001b[0;34m\u001b[0m\u001b[0m\n\u001b[1;32m      8\u001b[0m         \u001b[0;31m#print(shape_comb)\u001b[0m\u001b[0;34m\u001b[0m\u001b[0;34m\u001b[0m\u001b[0;34m\u001b[0m\u001b[0m\n",
      "\u001b[0;32m~/anaconda3/lib/python3.7/site-packages/numpy/lib/npyio.py\u001b[0m in \u001b[0;36mload\u001b[0;34m(file, mmap_mode, allow_pickle, fix_imports, encoding)\u001b[0m\n\u001b[1;32m    451\u001b[0m             \u001b[0;32melse\u001b[0m\u001b[0;34m:\u001b[0m\u001b[0;34m\u001b[0m\u001b[0;34m\u001b[0m\u001b[0m\n\u001b[1;32m    452\u001b[0m                 return format.read_array(fid, allow_pickle=allow_pickle,\n\u001b[0;32m--> 453\u001b[0;31m                                          pickle_kwargs=pickle_kwargs)\n\u001b[0m\u001b[1;32m    454\u001b[0m         \u001b[0;32melse\u001b[0m\u001b[0;34m:\u001b[0m\u001b[0;34m\u001b[0m\u001b[0;34m\u001b[0m\u001b[0m\n\u001b[1;32m    455\u001b[0m             \u001b[0;31m# Try a pickle\u001b[0m\u001b[0;34m\u001b[0m\u001b[0;34m\u001b[0m\u001b[0;34m\u001b[0m\u001b[0m\n",
      "\u001b[0;32m~/anaconda3/lib/python3.7/site-packages/numpy/lib/format.py\u001b[0m in \u001b[0;36mread_array\u001b[0;34m(fp, allow_pickle, pickle_kwargs)\u001b[0m\n\u001b[1;32m    736\u001b[0m         \u001b[0;32mif\u001b[0m \u001b[0misfileobj\u001b[0m\u001b[0;34m(\u001b[0m\u001b[0mfp\u001b[0m\u001b[0;34m)\u001b[0m\u001b[0;34m:\u001b[0m\u001b[0;34m\u001b[0m\u001b[0;34m\u001b[0m\u001b[0m\n\u001b[1;32m    737\u001b[0m             \u001b[0;31m# We can use the fast fromfile() function.\u001b[0m\u001b[0;34m\u001b[0m\u001b[0;34m\u001b[0m\u001b[0;34m\u001b[0m\u001b[0m\n\u001b[0;32m--> 738\u001b[0;31m             \u001b[0marray\u001b[0m \u001b[0;34m=\u001b[0m \u001b[0mnumpy\u001b[0m\u001b[0;34m.\u001b[0m\u001b[0mfromfile\u001b[0m\u001b[0;34m(\u001b[0m\u001b[0mfp\u001b[0m\u001b[0;34m,\u001b[0m \u001b[0mdtype\u001b[0m\u001b[0;34m=\u001b[0m\u001b[0mdtype\u001b[0m\u001b[0;34m,\u001b[0m \u001b[0mcount\u001b[0m\u001b[0;34m=\u001b[0m\u001b[0mcount\u001b[0m\u001b[0;34m)\u001b[0m\u001b[0;34m\u001b[0m\u001b[0;34m\u001b[0m\u001b[0m\n\u001b[0m\u001b[1;32m    739\u001b[0m         \u001b[0;32melse\u001b[0m\u001b[0;34m:\u001b[0m\u001b[0;34m\u001b[0m\u001b[0;34m\u001b[0m\u001b[0m\n\u001b[1;32m    740\u001b[0m             \u001b[0;31m# This is not a real file. We have to read it the\u001b[0m\u001b[0;34m\u001b[0m\u001b[0;34m\u001b[0m\u001b[0;34m\u001b[0m\u001b[0m\n",
      "\u001b[0;31mKeyboardInterrupt\u001b[0m: "
     ]
    }
   ],
   "source": [
    "input_path = '/data/liyuy/PROJECTS/DEREVERB3/timit_8k/reverb_train/train_wlen_'\n",
    "out_path = '/data/liyuy/PROJECTS/DEREVERB3/timit_8k/mean_val_file/'\n",
    "if path.exists(out_path) == False:\n",
    "            os.mkdir(out_path)\n",
    "\n",
    "for a in range(0,len(wlen_time)):\n",
    "    wlen = int(wlen_time[a] * 1e-3 * Fs)\n",
    "    if wlen > nfft:\n",
    "        nfft = nfft * 2\n",
    "    for b in range(0,len(overlap_perc)):\n",
    "        overlap = int(overlap_perc[b] * wlen)\n",
    "        hop_size = wlen - overlap\n",
    "        newin_path = input_path + '%d' % wlen + '_nfft_' + '%d' % nfft + '_overlap_' + '%d' % overlap + '/'\n",
    "        newout_file = out_path + 'train_wlen_' + '%d' % wlen + '_nfft_' + '%d' % nfft + '_overlap_' + '%d' % overlap + '.txt'\n",
    "        new_comb = None\n",
    "        \n",
    "        mean_comb = cal_mean(newin_path)\n",
    "        var = cal_var(newin_path,mean_comb)\n",
    "            \n",
    "        \n",
    "        print(mean_comb.shape,var.shape)\n",
    "            \n",
    "        #file1 = open(newout_file,\"a\")\n",
    "         \n",
    "        #file1.write('%.6f'% mean_comb+ ', ' + '%.6f'%std_comb )\n",
    "        #file1.close()\n",
    "        "
   ]
  },
  {
   "cell_type": "code",
   "execution_count": 11,
   "metadata": {},
   "outputs": [
    {
     "name": "stdout",
     "output_type": "stream",
     "text": [
      "[[ 4]\n",
      " [12]]\n"
     ]
    }
   ],
   "source": [
    "x = np.matrix([[1, 2], [4, 3]])\n",
    "a = np.matrix([[1],[5]])\n",
    "b = np.sum(x,axis=1)\n",
    "\n",
    "print(a+b)"
   ]
  },
  {
   "cell_type": "code",
   "execution_count": 26,
   "metadata": {},
   "outputs": [],
   "source": [
    "def cal_mean(dir_in):\n",
    "\n",
    "    for f in listdir(dir_in):\n",
    "        sum_col = 0\n",
    "        new_path = join(dir_in,f)\n",
    "        comb_input = np.load(new_path)\n",
    "        shape_comb = comb_input.shape\n",
    "        #print(shape_comb)\n",
    "        row_n = shape_comb[0]\n",
    "        col_n = shape_comb[1]\n",
    "        sum_m = np.zeros((row_n,))\n",
    "        #print(np.sum(comb_input,axis=1).shape)\n",
    "        sum_m += np.sum(comb_input,axis=1)\n",
    "        sum_col += col_n\n",
    "            \n",
    "    mean_comb = sum_m/col_n\n",
    "    return mean_comb"
   ]
  },
  {
   "cell_type": "code",
   "execution_count": 36,
   "metadata": {},
   "outputs": [],
   "source": [
    "def cal_var(dir_in,mean_c):\n",
    "    for f in listdir(dir_in):\n",
    "        sum_col = 0\n",
    "        new_path = join(dir_in,f)\n",
    "        comb_input = np.load(new_path)\n",
    "        shape_comb = comb_input.shape\n",
    "        \n",
    "        row_n = shape_comb[0]\n",
    "        col_n = shape_comb[1]\n",
    "        sum_m = np.zeros((row_n,))\n",
    "        new_input = np.square((comb_input.transpose()-mean_c).transpose())\n",
    "        #print(new_input.shape)\n",
    "        sum_m += np.sum(new_input,axis=1)\n",
    "        sum_col += col_n\n",
    "        \n",
    "    var_sq = sum_m / sum_col\n",
    "    var = np.sqrt(var_sq)\n",
    "    return var\n",
    "        \n",
    "        "
   ]
  },
  {
   "cell_type": "code",
   "execution_count": null,
   "metadata": {},
   "outputs": [],
   "source": [
    "def cal_mean(dir_in):\n",
    "    for f in listdir(dir_in):\n",
    "        sum_col = 0\n",
    "        new_path = join(dir_in,f)\n",
    "        x,fs = librosa.load(new_path,sr=None)\n",
    "                \n",
    "        reverb_stft = librosa.stft(x,n_fft = nfft,hop_length = hop_size,win_length = wlen)\n",
    "        dims = reverb_stft.shape\n",
    "        row_n = dims[0]\n",
    "        col_n = dims[1]\n",
    "\n",
    "        new_comb = np.zeros((dim_size*row_n,col_n))# create a numpy array of size [dim_size * row_n,col_n]\n",
    "        sum_m = np.zeros((dim_size*row_n,))\n",
    "        # This way can make sure three features can pass in right time sequence\n",
    "        phase = np.angle(reverb_stft)\n",
    "        cos_stft = np.cos(phase)\n",
    "        sin_stft = np.sin(phase)\n",
    "        logmag_stft = np.log(np.absolute(reverb_stft)+np.finfo(float).eps)\n",
    "        new_comb[0:row_n,:] = logmag_stft\n",
    "        new_comb[row_n:2*row_n,:] = sin_stft\n",
    "        new_comb[2*row_n:,:] = cos_stft\n",
    "        sum_m += np.sum(new_comb,axis=1)\n",
    "        sum_col += col_n\n",
    "            \n",
    "    mean_comb = sum_m/col_n\n",
    "    return mean_comb\n",
    "                "
   ]
  },
  {
   "cell_type": "code",
   "execution_count": null,
   "metadata": {},
   "outputs": [],
   "source": [
    "def cal_var(dir_in,mean_comb):\n",
    "    for f in listdir(dir_in):\n",
    "        sum_col = 0\n",
    "        new_path = join(dir_in,f)\n",
    "        x,fs = librosa.load(new_path,sr=None)\n",
    "                \n",
    "        reverb_stft = librosa.stft(x,n_fft = nfft,hop_length = hop_size,win_length = wlen)\n",
    "        dims = reverb_stft.shape\n",
    "        row_n = dims[0]\n",
    "        col_n = dims[1]\n",
    "\n",
    "        new_comb = np.zeros((dim_size*row_n,col_n))# create a numpy array of size [dim_size * row_n,col_n]\n",
    "        sum_m = np.zeros((dim_size*row_n,))\n",
    "        # This way can make sure three features can pass in right time sequence\n",
    "        phase = np.angle(reverb_stft)\n",
    "        cos_stft = np.cos(phase)\n",
    "        sin_stft = np.sin(phase)\n",
    "        logmag_stft = np.log(np.absolute(reverb_stft)+np.finfo(float).eps)\n",
    "        new_comb[0:row_n,:] = logmag_stft\n",
    "        new_comb[row_n:2*row_n,:] = sin_stft\n",
    "        new_comb[2*row_n:,:] = cos_stft\n",
    "        new_input = np.square((new_comb.transpose()-mean_c).transpose())\n",
    "        #print(new_input.shape)\n",
    "        sum_m += np.sum(new_input,axis=1)\n",
    "        sum_col += col_n\n",
    "        \n",
    "    var_sq = sum_m / sum_col\n",
    "    var = np.sqrt(var_sq)\n",
    "    return var\n",
    "                "
   ]
  }
 ],
 "metadata": {
  "kernelspec": {
   "display_name": "Python 3",
   "language": "python",
   "name": "python3"
  },
  "language_info": {
   "codemirror_mode": {
    "name": "ipython",
    "version": 3
   },
   "file_extension": ".py",
   "mimetype": "text/x-python",
   "name": "python",
   "nbconvert_exporter": "python",
   "pygments_lexer": "ipython3",
   "version": "3.7.4"
  }
 },
 "nbformat": 4,
 "nbformat_minor": 2
}
